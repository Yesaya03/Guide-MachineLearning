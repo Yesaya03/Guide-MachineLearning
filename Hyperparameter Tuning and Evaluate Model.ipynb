{
  "cells": [
    {
      "cell_type": "code",
      "execution_count": 68,
      "id": "df43110c",
      "metadata": {
        "id": "df43110c"
      },
      "outputs": [],
      "source": [
        "# Library\n",
        "import pandas as pd \n",
        "import numpy as np \n",
        "import matplotlib.pyplot as plt \n",
        "import seaborn as sns \n",
        "from sklearn.linear_model import LinearRegression \n",
        "from sklearn.model_selection import cross_val_score # new library\n",
        "from sklearn.model_selection import GridSearchCV # new library\n",
        "from sklearn.model_selection import train_test_split \n",
        "from sklearn.preprocessing import StandardScaler \n",
        "from sklearn.preprocessing import MinMaxScaler\n",
        "from sklearn.metrics import mean_absolute_error \n",
        "from sklearn.metrics import mean_absolute_percentage_error \n",
        "import warnings \n",
        "warnings.filterwarnings('ignore') "
      ]
    },
    {
      "cell_type": "code",
      "execution_count": 69,
      "id": "dd768afb",
      "metadata": {
        "colab": {
          "base_uri": "https://localhost:8080/",
          "height": 206
        },
        "id": "dd768afb",
        "outputId": "efd6332c-4d54-41c8-ae1d-6a032c3b65da"
      },
      "outputs": [
        {
          "data": {
            "text/html": [
              "<div>\n",
              "<style scoped>\n",
              "    .dataframe tbody tr th:only-of-type {\n",
              "        vertical-align: middle;\n",
              "    }\n",
              "\n",
              "    .dataframe tbody tr th {\n",
              "        vertical-align: top;\n",
              "    }\n",
              "\n",
              "    .dataframe thead th {\n",
              "        text-align: right;\n",
              "    }\n",
              "</style>\n",
              "<table border=\"1\" class=\"dataframe\">\n",
              "  <thead>\n",
              "    <tr style=\"text-align: right;\">\n",
              "      <th></th>\n",
              "      <th>R&amp;D Spend</th>\n",
              "      <th>Administration</th>\n",
              "      <th>Marketing Spend</th>\n",
              "      <th>State</th>\n",
              "      <th>Profit</th>\n",
              "    </tr>\n",
              "  </thead>\n",
              "  <tbody>\n",
              "    <tr>\n",
              "      <th>0</th>\n",
              "      <td>165349.20</td>\n",
              "      <td>136897.80</td>\n",
              "      <td>471784.10</td>\n",
              "      <td>New York</td>\n",
              "      <td>192261.83</td>\n",
              "    </tr>\n",
              "    <tr>\n",
              "      <th>1</th>\n",
              "      <td>162597.70</td>\n",
              "      <td>151377.59</td>\n",
              "      <td>443898.53</td>\n",
              "      <td>California</td>\n",
              "      <td>191792.06</td>\n",
              "    </tr>\n",
              "    <tr>\n",
              "      <th>2</th>\n",
              "      <td>153441.51</td>\n",
              "      <td>101145.55</td>\n",
              "      <td>407934.54</td>\n",
              "      <td>Florida</td>\n",
              "      <td>191050.39</td>\n",
              "    </tr>\n",
              "    <tr>\n",
              "      <th>3</th>\n",
              "      <td>144372.41</td>\n",
              "      <td>118671.85</td>\n",
              "      <td>383199.62</td>\n",
              "      <td>New York</td>\n",
              "      <td>182901.99</td>\n",
              "    </tr>\n",
              "    <tr>\n",
              "      <th>4</th>\n",
              "      <td>142107.34</td>\n",
              "      <td>91391.77</td>\n",
              "      <td>366168.42</td>\n",
              "      <td>Florida</td>\n",
              "      <td>166187.94</td>\n",
              "    </tr>\n",
              "  </tbody>\n",
              "</table>\n",
              "</div>"
            ],
            "text/plain": [
              "   R&D Spend  Administration  Marketing Spend       State     Profit\n",
              "0  165349.20       136897.80        471784.10    New York  192261.83\n",
              "1  162597.70       151377.59        443898.53  California  191792.06\n",
              "2  153441.51       101145.55        407934.54     Florida  191050.39\n",
              "3  144372.41       118671.85        383199.62    New York  182901.99\n",
              "4  142107.34        91391.77        366168.42     Florida  166187.94"
            ]
          },
          "execution_count": 69,
          "metadata": {},
          "output_type": "execute_result"
        }
      ],
      "source": [
        "df = pd.read_csv('50_Startups.csv')\n",
        "df.head()"
      ]
    },
    {
      "cell_type": "code",
      "execution_count": 70,
      "id": "YPvyhWjfvPms",
      "metadata": {
        "colab": {
          "base_uri": "https://localhost:8080/"
        },
        "id": "YPvyhWjfvPms",
        "outputId": "0840bb4b-c0b5-4a77-9e80-b25dfb7034f6"
      },
      "outputs": [
        {
          "data": {
            "text/plain": [
              "(50, 5)"
            ]
          },
          "execution_count": 70,
          "metadata": {},
          "output_type": "execute_result"
        }
      ],
      "source": [
        "df.shape # show shape dataset"
      ]
    },
    {
      "cell_type": "markdown",
      "id": "gqxQevXYrqTC",
      "metadata": {
        "id": "gqxQevXYrqTC"
      },
      "source": [
        "# **Data Profiling**"
      ]
    },
    {
      "cell_type": "code",
      "execution_count": 71,
      "id": "bb3c0b85",
      "metadata": {
        "colab": {
          "base_uri": "https://localhost:8080/"
        },
        "id": "bb3c0b85",
        "outputId": "cbdb9e0b-6744-4216-99e5-52738f35c475"
      },
      "outputs": [
        {
          "name": "stdout",
          "output_type": "stream",
          "text": [
            "<class 'pandas.core.frame.DataFrame'>\n",
            "RangeIndex: 50 entries, 0 to 49\n",
            "Data columns (total 5 columns):\n",
            " #   Column           Non-Null Count  Dtype  \n",
            "---  ------           --------------  -----  \n",
            " 0   R&D Spend        50 non-null     float64\n",
            " 1   Administration   50 non-null     float64\n",
            " 2   Marketing Spend  50 non-null     float64\n",
            " 3   State            50 non-null     object \n",
            " 4   Profit           50 non-null     float64\n",
            "dtypes: float64(4), object(1)\n",
            "memory usage: 2.1+ KB\n"
          ]
        }
      ],
      "source": [
        "df.info()"
      ]
    },
    {
      "cell_type": "code",
      "execution_count": 72,
      "id": "792a299a",
      "metadata": {
        "colab": {
          "base_uri": "https://localhost:8080/"
        },
        "id": "792a299a",
        "outputId": "ebd88468-8f70-4210-8f85-b4d1fb1ab85e"
      },
      "outputs": [
        {
          "data": {
            "text/plain": [
              "R&D Spend          0\n",
              "Administration     0\n",
              "Marketing Spend    0\n",
              "State              0\n",
              "Profit             0\n",
              "dtype: int64"
            ]
          },
          "execution_count": 72,
          "metadata": {},
          "output_type": "execute_result"
        }
      ],
      "source": [
        "df.isna().sum()"
      ]
    },
    {
      "cell_type": "markdown",
      "id": "I6D7hcsxr78a",
      "metadata": {
        "id": "I6D7hcsxr78a"
      },
      "source": [
        "# **Exploratory Data Analys**"
      ]
    },
    {
      "cell_type": "code",
      "execution_count": 73,
      "id": "jee8jlA7wPPN",
      "metadata": {
        "colab": {
          "base_uri": "https://localhost:8080/"
        },
        "id": "jee8jlA7wPPN",
        "outputId": "82aa55e1-3119-4f1e-a2d4-6bdf507f6cb1"
      },
      "outputs": [
        {
          "data": {
            "text/html": [
              "<div>\n",
              "<style scoped>\n",
              "    .dataframe tbody tr th:only-of-type {\n",
              "        vertical-align: middle;\n",
              "    }\n",
              "\n",
              "    .dataframe tbody tr th {\n",
              "        vertical-align: top;\n",
              "    }\n",
              "\n",
              "    .dataframe thead th {\n",
              "        text-align: right;\n",
              "    }\n",
              "</style>\n",
              "<table border=\"1\" class=\"dataframe\">\n",
              "  <thead>\n",
              "    <tr style=\"text-align: right;\">\n",
              "      <th></th>\n",
              "      <th>R&amp;D Spend</th>\n",
              "      <th>Administration</th>\n",
              "      <th>Marketing Spend</th>\n",
              "      <th>State</th>\n",
              "      <th>Profit</th>\n",
              "    </tr>\n",
              "  </thead>\n",
              "  <tbody>\n",
              "    <tr>\n",
              "      <th>count</th>\n",
              "      <td>50.000000</td>\n",
              "      <td>50.000000</td>\n",
              "      <td>50.000000</td>\n",
              "      <td>50</td>\n",
              "      <td>50.000000</td>\n",
              "    </tr>\n",
              "    <tr>\n",
              "      <th>unique</th>\n",
              "      <td>NaN</td>\n",
              "      <td>NaN</td>\n",
              "      <td>NaN</td>\n",
              "      <td>3</td>\n",
              "      <td>NaN</td>\n",
              "    </tr>\n",
              "    <tr>\n",
              "      <th>top</th>\n",
              "      <td>NaN</td>\n",
              "      <td>NaN</td>\n",
              "      <td>NaN</td>\n",
              "      <td>New York</td>\n",
              "      <td>NaN</td>\n",
              "    </tr>\n",
              "    <tr>\n",
              "      <th>freq</th>\n",
              "      <td>NaN</td>\n",
              "      <td>NaN</td>\n",
              "      <td>NaN</td>\n",
              "      <td>17</td>\n",
              "      <td>NaN</td>\n",
              "    </tr>\n",
              "    <tr>\n",
              "      <th>mean</th>\n",
              "      <td>73721.615600</td>\n",
              "      <td>121344.639600</td>\n",
              "      <td>211025.097800</td>\n",
              "      <td>NaN</td>\n",
              "      <td>112012.639200</td>\n",
              "    </tr>\n",
              "    <tr>\n",
              "      <th>std</th>\n",
              "      <td>45902.256482</td>\n",
              "      <td>28017.802755</td>\n",
              "      <td>122290.310726</td>\n",
              "      <td>NaN</td>\n",
              "      <td>40306.180338</td>\n",
              "    </tr>\n",
              "    <tr>\n",
              "      <th>min</th>\n",
              "      <td>0.000000</td>\n",
              "      <td>51283.140000</td>\n",
              "      <td>0.000000</td>\n",
              "      <td>NaN</td>\n",
              "      <td>14681.400000</td>\n",
              "    </tr>\n",
              "    <tr>\n",
              "      <th>25%</th>\n",
              "      <td>39936.370000</td>\n",
              "      <td>103730.875000</td>\n",
              "      <td>129300.132500</td>\n",
              "      <td>NaN</td>\n",
              "      <td>90138.902500</td>\n",
              "    </tr>\n",
              "    <tr>\n",
              "      <th>50%</th>\n",
              "      <td>73051.080000</td>\n",
              "      <td>122699.795000</td>\n",
              "      <td>212716.240000</td>\n",
              "      <td>NaN</td>\n",
              "      <td>107978.190000</td>\n",
              "    </tr>\n",
              "    <tr>\n",
              "      <th>75%</th>\n",
              "      <td>101602.800000</td>\n",
              "      <td>144842.180000</td>\n",
              "      <td>299469.085000</td>\n",
              "      <td>NaN</td>\n",
              "      <td>139765.977500</td>\n",
              "    </tr>\n",
              "    <tr>\n",
              "      <th>max</th>\n",
              "      <td>165349.200000</td>\n",
              "      <td>182645.560000</td>\n",
              "      <td>471784.100000</td>\n",
              "      <td>NaN</td>\n",
              "      <td>192261.830000</td>\n",
              "    </tr>\n",
              "  </tbody>\n",
              "</table>\n",
              "</div>"
            ],
            "text/plain": [
              "            R&D Spend  Administration  Marketing Spend     State  \\\n",
              "count       50.000000       50.000000        50.000000        50   \n",
              "unique            NaN             NaN              NaN         3   \n",
              "top               NaN             NaN              NaN  New York   \n",
              "freq              NaN             NaN              NaN        17   \n",
              "mean     73721.615600   121344.639600    211025.097800       NaN   \n",
              "std      45902.256482    28017.802755    122290.310726       NaN   \n",
              "min          0.000000    51283.140000         0.000000       NaN   \n",
              "25%      39936.370000   103730.875000    129300.132500       NaN   \n",
              "50%      73051.080000   122699.795000    212716.240000       NaN   \n",
              "75%     101602.800000   144842.180000    299469.085000       NaN   \n",
              "max     165349.200000   182645.560000    471784.100000       NaN   \n",
              "\n",
              "               Profit  \n",
              "count       50.000000  \n",
              "unique            NaN  \n",
              "top               NaN  \n",
              "freq              NaN  \n",
              "mean    112012.639200  \n",
              "std      40306.180338  \n",
              "min      14681.400000  \n",
              "25%      90138.902500  \n",
              "50%     107978.190000  \n",
              "75%     139765.977500  \n",
              "max     192261.830000  "
            ]
          },
          "execution_count": 73,
          "metadata": {},
          "output_type": "execute_result"
        }
      ],
      "source": [
        "df.describe(include=\"all\")"
      ]
    },
    {
      "cell_type": "code",
      "execution_count": 74,
      "id": "iH27GNSEwSzN",
      "metadata": {
        "colab": {
          "base_uri": "https://localhost:8080/"
        },
        "id": "iH27GNSEwSzN",
        "outputId": "05ebb201-0811-4a73-efdc-400b4a1ad299"
      },
      "outputs": [
        {
          "data": {
            "image/png": "[encoded data removed]",
            "text/plain": [
              "<Figure size 1500x1000 with 4 Axes>"
            ]
          },
          "metadata": {},
          "output_type": "display_data"
        }
      ],
      "source": [
        "col = ['R&D Spend', 'Administration', 'Marketing Spend', 'Profit']\n",
        "features = col\n",
        "plt.figure(figsize=(15, 10))\n",
        "for i in range(0, len(features)):\n",
        "    plt.subplot(2, 2, i+1)\n",
        "    sns.distplot(x=df[features[i]], color='salmon')\n",
        "    plt.xlabel(features[i]);"
      ]
    },
    {
      "cell_type": "code",
      "execution_count": 75,
      "id": "D1gna0a2zRZ4",
      "metadata": {
        "colab": {
          "base_uri": "https://localhost:8080/"
        },
        "id": "D1gna0a2zRZ4",
        "outputId": "dfe5dc40-bc4f-46a5-dfeb-43874d2fd931"
      },
      "outputs": [
        {
          "name": "stdout",
          "output_type": "stream",
          "text": [
            "                 R&D Spend  Administration  Marketing Spend    Profit\n",
            "R&D Spend         1.000000        0.241955         0.724248  0.972900\n",
            "Administration    0.241955        1.000000        -0.032154  0.200717\n",
            "Marketing Spend   0.724248       -0.032154         1.000000  0.747766\n",
            "Profit            0.972900        0.200717         0.747766  1.000000\n"
          ]
        },
        {
          "data": {
            "text/plain": [
              "<AxesSubplot: >"
            ]
          },
          "execution_count": 75,
          "metadata": {},
          "output_type": "execute_result"
        },
        {
          "data": {
            "image/png": "[encoded data removed]",
            "text/plain": [
              "<Figure size 640x480 with 2 Axes>"
            ]
          },
          "metadata": {},
          "output_type": "display_data"
        }
      ],
      "source": [
        "print(df.corr())\n",
        "sns.heatmap(df.corr(), annot=True)"
      ]
    },
    {
      "cell_type": "markdown",
      "id": "ObeZERx9sCRY",
      "metadata": {
        "id": "ObeZERx9sCRY"
      },
      "source": [
        "# **Feature Engineering**"
      ]
    },
    {
      "cell_type": "code",
      "execution_count": 76,
      "id": "E5LuSsTUsXFn",
      "metadata": {
        "id": "E5LuSsTUsXFn"
      },
      "outputs": [],
      "source": [
        "# df['State'].value_counts()"
      ]
    },
    {
      "cell_type": "code",
      "execution_count": 77,
      "id": "ZDzGqTISs331",
      "metadata": {
        "id": "ZDzGqTISs331"
      },
      "outputs": [],
      "source": [
        "state_enc = pd.get_dummies(df['State'], prefix = 'State')\n",
        "df.drop(['State'], axis=1, inplace = True)\n",
        "df = pd.concat([df, state_enc], axis=1)"
      ]
    },
    {
      "cell_type": "code",
      "execution_count": 78,
      "id": "prZaU6p2uCd6",
      "metadata": {
        "colab": {
          "base_uri": "https://localhost:8080/",
          "height": 206
        },
        "id": "prZaU6p2uCd6",
        "outputId": "815b015c-a970-4efc-f85d-bf9325788425"
      },
      "outputs": [
        {
          "data": {
            "text/html": [
              "<div>\n",
              "<style scoped>\n",
              "    .dataframe tbody tr th:only-of-type {\n",
              "        vertical-align: middle;\n",
              "    }\n",
              "\n",
              "    .dataframe tbody tr th {\n",
              "        vertical-align: top;\n",
              "    }\n",
              "\n",
              "    .dataframe thead th {\n",
              "        text-align: right;\n",
              "    }\n",
              "</style>\n",
              "<table border=\"1\" class=\"dataframe\">\n",
              "  <thead>\n",
              "    <tr style=\"text-align: right;\">\n",
              "      <th></th>\n",
              "      <th>R&amp;D Spend</th>\n",
              "      <th>Administration</th>\n",
              "      <th>Marketing Spend</th>\n",
              "      <th>Profit</th>\n",
              "      <th>State_California</th>\n",
              "      <th>State_Florida</th>\n",
              "      <th>State_New York</th>\n",
              "    </tr>\n",
              "  </thead>\n",
              "  <tbody>\n",
              "    <tr>\n",
              "      <th>0</th>\n",
              "      <td>2.016411</td>\n",
              "      <td>0.560753</td>\n",
              "      <td>2.153943</td>\n",
              "      <td>192261.83</td>\n",
              "      <td>0</td>\n",
              "      <td>0</td>\n",
              "      <td>1</td>\n",
              "    </tr>\n",
              "    <tr>\n",
              "      <th>1</th>\n",
              "      <td>1.955860</td>\n",
              "      <td>1.082807</td>\n",
              "      <td>1.923600</td>\n",
              "      <td>191792.06</td>\n",
              "      <td>1</td>\n",
              "      <td>0</td>\n",
              "      <td>0</td>\n",
              "    </tr>\n",
              "    <tr>\n",
              "      <th>2</th>\n",
              "      <td>1.754364</td>\n",
              "      <td>-0.728257</td>\n",
              "      <td>1.626528</td>\n",
              "      <td>191050.39</td>\n",
              "      <td>0</td>\n",
              "      <td>1</td>\n",
              "      <td>0</td>\n",
              "    </tr>\n",
              "    <tr>\n",
              "      <th>3</th>\n",
              "      <td>1.554784</td>\n",
              "      <td>-0.096365</td>\n",
              "      <td>1.422210</td>\n",
              "      <td>182901.99</td>\n",
              "      <td>0</td>\n",
              "      <td>0</td>\n",
              "      <td>1</td>\n",
              "    </tr>\n",
              "    <tr>\n",
              "      <th>4</th>\n",
              "      <td>1.504937</td>\n",
              "      <td>-1.079919</td>\n",
              "      <td>1.281528</td>\n",
              "      <td>166187.94</td>\n",
              "      <td>0</td>\n",
              "      <td>1</td>\n",
              "      <td>0</td>\n",
              "    </tr>\n",
              "  </tbody>\n",
              "</table>\n",
              "</div>"
            ],
            "text/plain": [
              "   R&D Spend  Administration  Marketing Spend     Profit  State_California  \\\n",
              "0   2.016411        0.560753         2.153943  192261.83                 0   \n",
              "1   1.955860        1.082807         1.923600  191792.06                 1   \n",
              "2   1.754364       -0.728257         1.626528  191050.39                 0   \n",
              "3   1.554784       -0.096365         1.422210  182901.99                 0   \n",
              "4   1.504937       -1.079919         1.281528  166187.94                 0   \n",
              "\n",
              "   State_Florida  State_New York  \n",
              "0              0               1  \n",
              "1              0               0  \n",
              "2              1               0  \n",
              "3              0               1  \n",
              "4              1               0  "
            ]
          },
          "execution_count": 78,
          "metadata": {},
          "output_type": "execute_result"
        }
      ],
      "source": [
        "scaler = StandardScaler()\n",
        "df[['R&D Spend']] = scaler.fit_transform(df[['R&D Spend']])\n",
        "df[['Administration']] = scaler.fit_transform(df[['Administration']])\n",
        "df[['Marketing Spend']] = scaler.fit_transform(df[['Marketing Spend']])\n",
        "df.head()"
      ]
    },
    {
      "cell_type": "markdown",
      "id": "1OSwU4oesGZO",
      "metadata": {
        "id": "1OSwU4oesGZO"
      },
      "source": [
        "# **Model Preprocessing**"
      ]
    },
    {
      "cell_type": "code",
      "execution_count": 79,
      "id": "WrXEQJDc1kkr",
      "metadata": {
        "id": "WrXEQJDc1kkr"
      },
      "outputs": [],
      "source": [
        "df.drop(['Marketing Spend', 'R&D Spend'], axis=1,inplace = True)"
      ]
    },
    {
      "cell_type": "code",
      "execution_count": 80,
      "id": "RRRpczNuu3lt",
      "metadata": {
        "id": "RRRpczNuu3lt"
      },
      "outputs": [],
      "source": [
        "x = df.drop(['Profit'], axis=1)\n",
        "y = df['Profit']\n"
      ]
    },
    {
      "cell_type": "code",
      "execution_count": 81,
      "id": "CTFldsyLvJ5t",
      "metadata": {
        "id": "CTFldsyLvJ5t"
      },
      "outputs": [],
      "source": [
        "x_train, x_test, y_train, y_test = train_test_split(x,y, test_size = 0.33, random_state=42)"
      ]
    },
    {
      "cell_type": "markdown",
      "id": "c8RNkzMh3DFm",
      "metadata": {
        "id": "c8RNkzMh3DFm"
      },
      "source": [
        "# **Model Training**"
      ]
    },
    {
      "cell_type": "code",
      "execution_count": 82,
      "id": "ZVt3Tq0H3YtH",
      "metadata": {
        "colab": {
          "base_uri": "https://localhost:8080/"
        },
        "id": "ZVt3Tq0H3YtH",
        "outputId": "51fe8f75-cf9e-47d4-e9f4-badb4b31efde"
      },
      "outputs": [
        {
          "data": {
            "text/html": [
              "<style>#sk-container-id-5 {color: black;background-color: white;}#sk-container-id-5 pre{padding: 0;}#sk-container-id-5 div.sk-toggleable {background-color: white;}#sk-container-id-5 label.sk-toggleable__label {cursor: pointer;display: block;width: 100%;margin-bottom: 0;padding: 0.3em;box-sizing: border-box;text-align: center;}#sk-container-id-5 label.sk-toggleable__label-arrow:before {content: \"▸\";float: left;margin-right: 0.25em;color: #696969;}#sk-container-id-5 label.sk-toggleable__label-arrow:hover:before {color: black;}#sk-container-id-5 div.sk-estimator:hover label.sk-toggleable__label-arrow:before {color: black;}#sk-container-id-5 div.sk-toggleable__content {max-height: 0;max-width: 0;overflow: hidden;text-align: left;background-color: #f0f8ff;}#sk-container-id-5 div.sk-toggleable__content pre {margin: 0.2em;color: black;border-radius: 0.25em;background-color: #f0f8ff;}#sk-container-id-5 input.sk-toggleable__control:checked~div.sk-toggleable__content {max-height: 200px;max-width: 100%;overflow: auto;}#sk-container-id-5 input.sk-toggleable__control:checked~label.sk-toggleable__label-arrow:before {content: \"▾\";}#sk-container-id-5 div.sk-estimator input.sk-toggleable__control:checked~label.sk-toggleable__label {background-color: #d4ebff;}#sk-container-id-5 div.sk-label input.sk-toggleable__control:checked~label.sk-toggleable__label {background-color: #d4ebff;}#sk-container-id-5 input.sk-hidden--visually {border: 0;clip: rect(1px 1px 1px 1px);clip: rect(1px, 1px, 1px, 1px);height: 1px;margin: -1px;overflow: hidden;padding: 0;position: absolute;width: 1px;}#sk-container-id-5 div.sk-estimator {font-family: monospace;background-color: #f0f8ff;border: 1px dotted black;border-radius: 0.25em;box-sizing: border-box;margin-bottom: 0.5em;}#sk-container-id-5 div.sk-estimator:hover {background-color: #d4ebff;}#sk-container-id-5 div.sk-parallel-item::after {content: \"\";width: 100%;border-bottom: 1px solid gray;flex-grow: 1;}#sk-container-id-5 div.sk-label:hover label.sk-toggleable__label {background-color: #d4ebff;}#sk-container-id-5 div.sk-serial::before {content: \"\";position: absolute;border-left: 1px solid gray;box-sizing: border-box;top: 0;bottom: 0;left: 50%;z-index: 0;}#sk-container-id-5 div.sk-serial {display: flex;flex-direction: column;align-items: center;background-color: white;padding-right: 0.2em;padding-left: 0.2em;position: relative;}#sk-container-id-5 div.sk-item {position: relative;z-index: 1;}#sk-container-id-5 div.sk-parallel {display: flex;align-items: stretch;justify-content: center;background-color: white;position: relative;}#sk-container-id-5 div.sk-item::before, #sk-container-id-5 div.sk-parallel-item::before {content: \"\";position: absolute;border-left: 1px solid gray;box-sizing: border-box;top: 0;bottom: 0;left: 50%;z-index: -1;}#sk-container-id-5 div.sk-parallel-item {display: flex;flex-direction: column;z-index: 1;position: relative;background-color: white;}#sk-container-id-5 div.sk-parallel-item:first-child::after {align-self: flex-end;width: 50%;}#sk-container-id-5 div.sk-parallel-item:last-child::after {align-self: flex-start;width: 50%;}#sk-container-id-5 div.sk-parallel-item:only-child::after {width: 0;}#sk-container-id-5 div.sk-dashed-wrapped {border: 1px dashed gray;margin: 0 0.4em 0.5em 0.4em;box-sizing: border-box;padding-bottom: 0.4em;background-color: white;}#sk-container-id-5 div.sk-label label {font-family: monospace;font-weight: bold;display: inline-block;line-height: 1.2em;}#sk-container-id-5 div.sk-label-container {text-align: center;}#sk-container-id-5 div.sk-container {/* jupyter's `normalize.less` sets `[hidden] { display: none; }` but bootstrap.min.css set `[hidden] { display: none !important; }` so we also need the `!important` here to be able to override the default hidden behavior on the sphinx rendered scikit-learn.org. See: https://github.com/scikit-learn/scikit-learn/issues/21755 */display: inline-block !important;position: relative;}#sk-container-id-5 div.sk-text-repr-fallback {display: none;}</style><div id=\"sk-container-id-5\" class=\"sk-top-container\"><div class=\"sk-text-repr-fallback\"><pre>LinearRegression()</pre><b>In a Jupyter environment, please rerun this cell to show the HTML representation or trust the notebook. <br />On GitHub, the HTML representation is unable to render, please try loading this page with nbviewer.org.</b></div><div class=\"sk-container\" hidden><div class=\"sk-item\"><div class=\"sk-estimator sk-toggleable\"><input class=\"sk-toggleable__control sk-hidden--visually\" id=\"sk-estimator-id-5\" type=\"checkbox\" checked><label for=\"sk-estimator-id-5\" class=\"sk-toggleable__label sk-toggleable__label-arrow\">LinearRegression</label><div class=\"sk-toggleable__content\"><pre>LinearRegression()</pre></div></div></div></div></div>"
            ],
            "text/plain": [
              "LinearRegression()"
            ]
          },
          "execution_count": 82,
          "metadata": {},
          "output_type": "execute_result"
        }
      ],
      "source": [
        "model = LinearRegression()\n",
        "model.fit(x_train,y_train)"
      ]
    },
    {
      "cell_type": "code",
      "execution_count": 83,
      "id": "pEHumvwf3rnS",
      "metadata": {
        "id": "pEHumvwf3rnS"
      },
      "outputs": [],
      "source": [
        "importance = model.coef_"
      ]
    },
    {
      "cell_type": "code",
      "execution_count": 84,
      "id": "WBPt9xer4VKY",
      "metadata": {
        "colab": {
          "base_uri": "https://localhost:8080/"
        },
        "id": "WBPt9xer4VKY",
        "outputId": "1572da31-0f93-4c97-f85e-84238511eefe"
      },
      "outputs": [
        {
          "name": "stdout",
          "output_type": "stream",
          "text": [
            "Features 0, Score : 917.23407\n",
            "Features 1, Score : -10897.17334\n",
            "Features 2, Score : 8045.54721\n",
            "Features 3, Score : 2851.62613\n"
          ]
        }
      ],
      "source": [
        "for i, v in enumerate(importance):\n",
        "  print('Features %0d, Score : %.5f'%(i,v))"
      ]
    },
    {
      "cell_type": "markdown",
      "id": "R2u2ZDR87Pie",
      "metadata": {
        "id": "R2u2ZDR87Pie"
      },
      "source": [
        "# **Remodelling**"
      ]
    },
    {
      "cell_type": "code",
      "execution_count": 85,
      "id": "pZmCu_rU660b",
      "metadata": {
        "id": "pZmCu_rU660b"
      },
      "outputs": [],
      "source": [
        "df.drop(['State_California', 'State_Florida','State_New York'], axis=1,inplace = True)"
      ]
    },
    {
      "cell_type": "code",
      "execution_count": 86,
      "id": "NZTiaQ0t7nBp",
      "metadata": {
        "id": "NZTiaQ0t7nBp"
      },
      "outputs": [],
      "source": [
        "x = df.drop(['Profit'], axis=1)\n",
        "y = df['Profit']"
      ]
    },
    {
      "cell_type": "code",
      "execution_count": 87,
      "id": "TPVG0aQj7XDu",
      "metadata": {
        "id": "TPVG0aQj7XDu"
      },
      "outputs": [],
      "source": [
        "x_train, x_test, y_train, y_test = train_test_split(x,y, test_size = 0.33, random_state=42)"
      ]
    },
    {
      "cell_type": "code",
      "execution_count": 88,
      "id": "NNPgGBc97d7O",
      "metadata": {
        "colab": {
          "base_uri": "https://localhost:8080/"
        },
        "id": "NNPgGBc97d7O",
        "outputId": "f40a89b4-57e1-4865-95b8-c204c6edab13"
      },
      "outputs": [
        {
          "data": {
            "text/html": [
              "<style>#sk-container-id-6 {color: black;background-color: white;}#sk-container-id-6 pre{padding: 0;}#sk-container-id-6 div.sk-toggleable {background-color: white;}#sk-container-id-6 label.sk-toggleable__label {cursor: pointer;display: block;width: 100%;margin-bottom: 0;padding: 0.3em;box-sizing: border-box;text-align: center;}#sk-container-id-6 label.sk-toggleable__label-arrow:before {content: \"▸\";float: left;margin-right: 0.25em;color: #696969;}#sk-container-id-6 label.sk-toggleable__label-arrow:hover:before {color: black;}#sk-container-id-6 div.sk-estimator:hover label.sk-toggleable__label-arrow:before {color: black;}#sk-container-id-6 div.sk-toggleable__content {max-height: 0;max-width: 0;overflow: hidden;text-align: left;background-color: #f0f8ff;}#sk-container-id-6 div.sk-toggleable__content pre {margin: 0.2em;color: black;border-radius: 0.25em;background-color: #f0f8ff;}#sk-container-id-6 input.sk-toggleable__control:checked~div.sk-toggleable__content {max-height: 200px;max-width: 100%;overflow: auto;}#sk-container-id-6 input.sk-toggleable__control:checked~label.sk-toggleable__label-arrow:before {content: \"▾\";}#sk-container-id-6 div.sk-estimator input.sk-toggleable__control:checked~label.sk-toggleable__label {background-color: #d4ebff;}#sk-container-id-6 div.sk-label input.sk-toggleable__control:checked~label.sk-toggleable__label {background-color: #d4ebff;}#sk-container-id-6 input.sk-hidden--visually {border: 0;clip: rect(1px 1px 1px 1px);clip: rect(1px, 1px, 1px, 1px);height: 1px;margin: -1px;overflow: hidden;padding: 0;position: absolute;width: 1px;}#sk-container-id-6 div.sk-estimator {font-family: monospace;background-color: #f0f8ff;border: 1px dotted black;border-radius: 0.25em;box-sizing: border-box;margin-bottom: 0.5em;}#sk-container-id-6 div.sk-estimator:hover {background-color: #d4ebff;}#sk-container-id-6 div.sk-parallel-item::after {content: \"\";width: 100%;border-bottom: 1px solid gray;flex-grow: 1;}#sk-container-id-6 div.sk-label:hover label.sk-toggleable__label {background-color: #d4ebff;}#sk-container-id-6 div.sk-serial::before {content: \"\";position: absolute;border-left: 1px solid gray;box-sizing: border-box;top: 0;bottom: 0;left: 50%;z-index: 0;}#sk-container-id-6 div.sk-serial {display: flex;flex-direction: column;align-items: center;background-color: white;padding-right: 0.2em;padding-left: 0.2em;position: relative;}#sk-container-id-6 div.sk-item {position: relative;z-index: 1;}#sk-container-id-6 div.sk-parallel {display: flex;align-items: stretch;justify-content: center;background-color: white;position: relative;}#sk-container-id-6 div.sk-item::before, #sk-container-id-6 div.sk-parallel-item::before {content: \"\";position: absolute;border-left: 1px solid gray;box-sizing: border-box;top: 0;bottom: 0;left: 50%;z-index: -1;}#sk-container-id-6 div.sk-parallel-item {display: flex;flex-direction: column;z-index: 1;position: relative;background-color: white;}#sk-container-id-6 div.sk-parallel-item:first-child::after {align-self: flex-end;width: 50%;}#sk-container-id-6 div.sk-parallel-item:last-child::after {align-self: flex-start;width: 50%;}#sk-container-id-6 div.sk-parallel-item:only-child::after {width: 0;}#sk-container-id-6 div.sk-dashed-wrapped {border: 1px dashed gray;margin: 0 0.4em 0.5em 0.4em;box-sizing: border-box;padding-bottom: 0.4em;background-color: white;}#sk-container-id-6 div.sk-label label {font-family: monospace;font-weight: bold;display: inline-block;line-height: 1.2em;}#sk-container-id-6 div.sk-label-container {text-align: center;}#sk-container-id-6 div.sk-container {/* jupyter's `normalize.less` sets `[hidden] { display: none; }` but bootstrap.min.css set `[hidden] { display: none !important; }` so we also need the `!important` here to be able to override the default hidden behavior on the sphinx rendered scikit-learn.org. See: https://github.com/scikit-learn/scikit-learn/issues/21755 */display: inline-block !important;position: relative;}#sk-container-id-6 div.sk-text-repr-fallback {display: none;}</style><div id=\"sk-container-id-6\" class=\"sk-top-container\"><div class=\"sk-text-repr-fallback\"><pre>LinearRegression()</pre><b>In a Jupyter environment, please rerun this cell to show the HTML representation or trust the notebook. <br />On GitHub, the HTML representation is unable to render, please try loading this page with nbviewer.org.</b></div><div class=\"sk-container\" hidden><div class=\"sk-item\"><div class=\"sk-estimator sk-toggleable\"><input class=\"sk-toggleable__control sk-hidden--visually\" id=\"sk-estimator-id-6\" type=\"checkbox\" checked><label for=\"sk-estimator-id-6\" class=\"sk-toggleable__label sk-toggleable__label-arrow\">LinearRegression</label><div class=\"sk-toggleable__content\"><pre>LinearRegression()</pre></div></div></div></div></div>"
            ],
            "text/plain": [
              "LinearRegression()"
            ]
          },
          "execution_count": 88,
          "metadata": {},
          "output_type": "execute_result"
        }
      ],
      "source": [
        "model = LinearRegression()\n",
        "model.fit(x_train,y_train)"
      ]
    },
    {
      "cell_type": "code",
      "execution_count": 89,
      "id": "K1zqpZ-o5DIq",
      "metadata": {
        "colab": {
          "base_uri": "https://localhost:8080/",
          "height": 265
        },
        "id": "K1zqpZ-o5DIq",
        "outputId": "3c38b586-f26f-4755-a58e-77e1f55fa212"
      },
      "outputs": [
        {
          "data": {
            "image/png": "[encoded data removed]",
            "text/plain": [
              "<Figure size 640x480 with 1 Axes>"
            ]
          },
          "metadata": {},
          "output_type": "display_data"
        }
      ],
      "source": [
        "y_pred = model.predict(x_test)\n",
        "plt.scatter(x_test, y_test, color ='b')\n",
        "plt.plot(x_test, y_pred, color ='k')\n",
        "  \n",
        "plt.show()"
      ]
    },
    {
      "cell_type": "code",
      "execution_count": 90,
      "id": "3djyoIIs5nGR",
      "metadata": {
        "colab": {
          "base_uri": "https://localhost:8080/"
        },
        "id": "3djyoIIs5nGR",
        "outputId": "f560f76c-e8c7-4428-a6e1-e8dc7415a900"
      },
      "outputs": [
        {
          "data": {
            "text/plain": [
              "0.34839227351370355"
            ]
          },
          "execution_count": 90,
          "metadata": {},
          "output_type": "execute_result"
        }
      ],
      "source": [
        "mean_absolute_percentage_error(y_test, y_pred)"
      ]
    },
    {
      "cell_type": "markdown",
      "id": "ef097339",
      "metadata": {},
      "source": [
        "# Hyperparameter Tuning and Evaluate Model"
      ]
    },
    {
      "cell_type": "code",
      "execution_count": 91,
      "id": "976c65d1",
      "metadata": {},
      "outputs": [
        {
          "data": {
            "text/plain": [
              "{'copy_X': True,\n",
              " 'fit_intercept': True,\n",
              " 'n_jobs': None,\n",
              " 'normalize': 'deprecated',\n",
              " 'positive': False}"
            ]
          },
          "execution_count": 91,
          "metadata": {},
          "output_type": "execute_result"
        }
      ],
      "source": [
        "regressor = LinearRegression() # declare regressor variable\n",
        "regressor.get_params() # getting default value from algoritm"
      ]
    },
    {
      "cell_type": "code",
      "execution_count": 92,
      "id": "e2ed36aa",
      "metadata": {},
      "outputs": [],
      "source": [
        "# declare variable for parameter include possible value in every parameter\n",
        "parameters = {\n",
        "    \"copy_X\": [True, False],\n",
        "    \"fit_intercept\": [True, False],\n",
        "    \"n_jobs\": [None, -1],\n",
        "    \"normalize\": [True, False],\n",
        "    \"positive\": [True, False],\n",
        "}"
      ]
    },
    {
      "cell_type": "code",
      "execution_count": 102,
      "id": "9fe1e2b0",
      "metadata": {},
      "outputs": [],
      "source": [
        "# getting grid with GridSearchCV function\n",
        "grid = GridSearchCV(estimator=regressor , param_grid=parameters, cv=3)"
      ]
    },
    {
      "cell_type": "code",
      "execution_count": 103,
      "id": "9f248467",
      "metadata": {},
      "outputs": [
        {
          "data": {
            "text/plain": [
              "{'copy_X': True,\n",
              " 'fit_intercept': True,\n",
              " 'n_jobs': None,\n",
              " 'normalize': True,\n",
              " 'positive': True}"
            ]
          },
          "execution_count": 103,
          "metadata": {},
          "output_type": "execute_result"
        }
      ],
      "source": [
        "# get best model for parameter that will use in Linear Regression\n",
        "best_model = grid.fit(x_train, y_train)\n",
        "best_model.best_params_"
      ]
    },
    {
      "cell_type": "code",
      "execution_count": 104,
      "id": "c983531d",
      "metadata": {},
      "outputs": [],
      "source": [
        "# fill algoritm with best model's parameter\n",
        "regressor_new = LinearRegression(\n",
        "    positive=True, \n",
        "    normalize=True, \n",
        "    n_jobs=None, \n",
        "    fit_intercept=True, \n",
        "    copy_X=True)"
      ]
    },
    {
      "cell_type": "code",
      "execution_count": 105,
      "id": "9c394b07",
      "metadata": {},
      "outputs": [],
      "source": [
        "# create new model and new prediction with best model parameter\n",
        "model_new = regressor_new.fit(x_train, y_train)\n",
        "y_pred_new =regressor_new.predict(x_test)"
      ]
    },
    {
      "cell_type": "code",
      "execution_count": 107,
      "id": "df3ca006",
      "metadata": {},
      "outputs": [
        {
          "data": {
            "text/plain": [
              "0.3483922735137035"
            ]
          },
          "execution_count": 107,
          "metadata": {},
          "output_type": "execute_result"
        }
      ],
      "source": [
        "# get MAPE\n",
        "mape_new = mean_absolute_percentage_error(y_test, y_pred_new)\n",
        "mape_new"
      ]
    }
  ],
  "metadata": {
    "colab": {
      "collapsed_sections": [
        "gqxQevXYrqTC",
        "I6D7hcsxr78a"
      ],
      "provenance": []
    },
    "kernelspec": {
      "display_name": "Python 3",
      "language": "python",
      "name": "python3"
    },
    "language_info": {
      "codemirror_mode": {
        "name": "ipython",
        "version": 3
      },
      "file_extension": ".py",
      "mimetype": "text/x-python",
      "name": "python",
      "nbconvert_exporter": "python",
      "pygments_lexer": "ipython3",
      "version": "3.10.2 (tags/v3.10.2:a58ebcc, Jan 17 2022, 14:12:15) [MSC v.1929 64 bit (AMD64)]"
    },
    "vscode": {
      "interpreter": {
        "hash": "26de051ba29f2982a8de78e945f0abaf191376122a1563185a90213a26c5da77"
      }
    }
  },
  "nbformat": 4,
  "nbformat_minor": 5
}
